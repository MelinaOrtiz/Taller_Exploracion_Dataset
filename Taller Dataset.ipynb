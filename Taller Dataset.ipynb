{
 "cells": [
  {
   "cell_type": "markdown",
   "id": "82cc1781",
   "metadata": {},
   "source": [
    "## Taller #1 : Exploración de un Dataset "
   ]
  },
  {
   "cell_type": "markdown",
   "id": "d177d1f7",
   "metadata": {},
   "source": [
    "**Estudiante: Melina Ortiz**"
   ]
  },
  {
   "cell_type": "markdown",
   "id": "02aff6d7",
   "metadata": {},
   "source": [
    "**Actividad:**\n",
    "\n",
    "Selecciona un dataset propio (deseable) o disponible en Internet y crea un jupyter notebook donde se muestre el análisis de este dataset con python.  Cargue el archivo en github y registre el enlace como comentario en este foro.\n",
    "\n",
    "1. Contexto del análisis\n",
    "2. Pregunta SMART\n",
    "3. Descripción de los datos incluyendo para cada columna: \n",
    "    - Variable: nombre de la variable\n",
    "    - Tipo: tipo del formato de la variable. categórica, numérica, Booleana …\n",
    "    - Contexto: información útil para entender el espacio semántico. \n",
    "    - Expectativa: Porqué es importante esta variable para mi problema? \n",
    "    - Importancia\n",
    "4. Análisis general del dataset\n",
    "\t- Forma y tamaño del dataset\n",
    "\t- Evaluación de los nombres de las variables\n",
    "\t- Revisión de los tipos de variables\n",
    "5. Análisis Univariado:\n",
    "\t- Identificar Valores Nulos\n",
    "\t- Analizar los Valores únicos de las variables discretas\n",
    "\t- Analizar la distribución de las variables continuas\n",
    "\t- Evaluar la necesidad de usar Label encoding y/o  hot-encoding"
   ]
  },
  {
   "cell_type": "markdown",
   "id": "989ab1ae",
   "metadata": {},
   "source": [
    "                                               ## SOLUCIÓN ##"
   ]
  },
  {
   "cell_type": "markdown",
   "id": "1270940f",
   "metadata": {},
   "source": [
    "**1. Contexto del análisis**"
   ]
  },
  {
   "cell_type": "markdown",
   "id": "db5b68b6",
   "metadata": {},
   "source": [
    "El siguiente análisis corresponde a un dataset que contiene información sobre un conjunto de datos sobre 37 afectaciones de salud (enfermedades) y los medicamentos/fármacos relacionados que puedan ayudar a reducir o curar con los sintomas  y que son vendidos en una farmacia específica."
   ]
  },
  {
   "cell_type": "markdown",
   "id": "6d5e0c89",
   "metadata": {},
   "source": [
    "**2. Pregunta SMART**"
   ]
  },
  {
   "cell_type": "code",
   "execution_count": null,
   "id": "a8a76c68",
   "metadata": {},
   "outputs": [],
   "source": []
  },
  {
   "cell_type": "markdown",
   "id": "960d36ca",
   "metadata": {},
   "source": [
    "**3. Descripción de los datos por columna**"
   ]
  },
  {
   "cell_type": "markdown",
   "id": "d05e4aae",
   "metadata": {},
   "source": [
    "-Variable #1: Condition ó Afectación / Tipo: Cadena de texto / Contexto: Informa sobre la enfermedad o afectación de la salud del usuario / Expectativa: es importante porque permite identificar la enfermedad a curar / Importancia: Alta\n",
    "\n",
    "-Variable #2: Drug ó Medicina / Tipo: Cadena de texto / Contexto: Informa sobre el medicamento comprado por el usuario / Expectativa: es importante para determinar posible opción para curar la sintomatología / Importancia: Alta\n",
    "\n",
    "-Variable #3: Ease of Use ó Facilidad / Tipo: numérico / Contexto: Informa sobre la calificación (entre 1 a 5) dada por el usuario según la facilidad de aceso a la medicina / Expectativa: es importante para determinar que tan accesible es el medicamento / Importancia: Alta\n",
    "\n",
    "-Variable #4: Effective  ó  Efectividad / Tipo: numérico / Contexto: Informa sobre la calificación (entre 1 a 5) dada por el usuario según el nivel de efectividad que tuvo el medicamento / Expectativa: es importante para determinar la mejor opción para curar la sintomatología / Importancia: Alta\n",
    "\n",
    "-Variable #5: Form ó Presentación / Tipo: Cadena de texto / Contexto: Informa sobre la forma de presentación del medicamento / Expectativa: permite establecer la presentación de mayor consumo en los usuarios / Importancia: Media\n",
    "\n",
    "-Variable #6: Indication ó Indicaciones / Tipo: Cadena de texto / Contexto: Informa sobre forma de uso, restricciones y contraindicaciones del medicamento comprado por el usuario / Expectativa: permite identificar si las instrucciones del medicamento están en la etiqueda o no lo están  / Importancia: Media\n",
    "\n",
    "-Variable #7: Price ó Precio / Tipo: número / Contexto: Informa sobre el valor monetario de cada medicamento comprado por el usuario / Expectativa: es importante para determinar las ventas generadas por cada medicamento / Importancia: Alta\n",
    "\n",
    "-Variable #8:Reviews ó Reseñas / Tipo: número / Contexto: Informa sobre la cantidad de calificaciones que diferentes usuarios han dado al medicamento / Expectativa: es importante para determinar cuál ha sido el medicamento con mayores reseñas / Importancia: Media\n",
    "\n",
    "-Variable #9: Satisfaction ó Satisfacción/ Tipo: número / Contexto: Informa sobre la calificación que le da el usuario (entre 1 a 5) al medicamento en general / Expectativa: es importante para determinar posible opción de preferencia del usuario para curar la sintomatología / Importancia: Alta\n",
    "\n",
    "-Variable #10: Type ó Tipo / Tipo: Cadena de texto / Contexto: Informa sobre  si el medicamento comprado por el usuario es de venta libre, si requiere formulación médica, o si se puede ofertar de las dos maneras / Expectativa: es importante para determinar el acceso al medicamento / Importancia: Media"
   ]
  },
  {
   "cell_type": "code",
   "execution_count": 130,
   "id": "c8f986c0",
   "metadata": {},
   "outputs": [
    {
     "data": {
      "text/html": [
       "<div>\n",
       "<style scoped>\n",
       "    .dataframe tbody tr th:only-of-type {\n",
       "        vertical-align: middle;\n",
       "    }\n",
       "\n",
       "    .dataframe tbody tr th {\n",
       "        vertical-align: top;\n",
       "    }\n",
       "\n",
       "    .dataframe thead th {\n",
       "        text-align: right;\n",
       "    }\n",
       "</style>\n",
       "<table border=\"1\" class=\"dataframe\">\n",
       "  <thead>\n",
       "    <tr style=\"text-align: right;\">\n",
       "      <th></th>\n",
       "      <th>Condition</th>\n",
       "      <th>Drug</th>\n",
       "      <th>EaseOfUse</th>\n",
       "      <th>Effective</th>\n",
       "      <th>Form</th>\n",
       "      <th>Indication</th>\n",
       "      <th>Price</th>\n",
       "      <th>Reviews</th>\n",
       "      <th>Satisfaction</th>\n",
       "      <th>Type</th>\n",
       "    </tr>\n",
       "  </thead>\n",
       "  <tbody>\n",
       "    <tr>\n",
       "      <th>0</th>\n",
       "      <td>Acute Bacterial Sinusitis</td>\n",
       "      <td>Amoxicillin</td>\n",
       "      <td>3.852353</td>\n",
       "      <td>3.655882</td>\n",
       "      <td>Capsule</td>\n",
       "      <td>On Label</td>\n",
       "      <td>12.590000</td>\n",
       "      <td>86.294118</td>\n",
       "      <td>3.197647</td>\n",
       "      <td>RX</td>\n",
       "    </tr>\n",
       "    <tr>\n",
       "      <th>1</th>\n",
       "      <td>Acute Bacterial Sinusitis</td>\n",
       "      <td>Amoxicillin-Pot Clavulanate</td>\n",
       "      <td>3.470000</td>\n",
       "      <td>3.290000</td>\n",
       "      <td>Liquid (Drink)</td>\n",
       "      <td>Off Label</td>\n",
       "      <td>287.370000</td>\n",
       "      <td>43.000000</td>\n",
       "      <td>2.590000</td>\n",
       "      <td>RX</td>\n",
       "    </tr>\n",
       "    <tr>\n",
       "      <th>2</th>\n",
       "      <td>Acute Bacterial Sinusitis</td>\n",
       "      <td>Amoxicillin-Pot Clavulanate</td>\n",
       "      <td>3.121429</td>\n",
       "      <td>2.962857</td>\n",
       "      <td>Tablet</td>\n",
       "      <td>On Label</td>\n",
       "      <td>70.608571</td>\n",
       "      <td>267.285714</td>\n",
       "      <td>2.248571</td>\n",
       "      <td>RX</td>\n",
       "    </tr>\n",
       "    <tr>\n",
       "      <th>3</th>\n",
       "      <td>Acute Bacterial Sinusitis</td>\n",
       "      <td>Ampicillin</td>\n",
       "      <td>2.000000</td>\n",
       "      <td>3.000000</td>\n",
       "      <td>Capsule</td>\n",
       "      <td>On Label</td>\n",
       "      <td>12.590000</td>\n",
       "      <td>1.000000</td>\n",
       "      <td>1.000000</td>\n",
       "      <td>RX</td>\n",
       "    </tr>\n",
       "    <tr>\n",
       "      <th>4</th>\n",
       "      <td>Acute Bacterial Sinusitis</td>\n",
       "      <td>Ampicillin</td>\n",
       "      <td>3.250000</td>\n",
       "      <td>3.000000</td>\n",
       "      <td>Tablet</td>\n",
       "      <td>On Label</td>\n",
       "      <td>125.240000</td>\n",
       "      <td>15.000000</td>\n",
       "      <td>3.000000</td>\n",
       "      <td>RX</td>\n",
       "    </tr>\n",
       "    <tr>\n",
       "      <th>...</th>\n",
       "      <td>...</td>\n",
       "      <td>...</td>\n",
       "      <td>...</td>\n",
       "      <td>...</td>\n",
       "      <td>...</td>\n",
       "      <td>...</td>\n",
       "      <td>...</td>\n",
       "      <td>...</td>\n",
       "      <td>...</td>\n",
       "      <td>...</td>\n",
       "    </tr>\n",
       "    <tr>\n",
       "      <th>680</th>\n",
       "      <td>vulvovaginal candidiasis</td>\n",
       "      <td>Miconazole Nitrate</td>\n",
       "      <td>3.465000</td>\n",
       "      <td>2.770000</td>\n",
       "      <td>Cream</td>\n",
       "      <td>On Label</td>\n",
       "      <td>13.990000</td>\n",
       "      <td>19.500000</td>\n",
       "      <td>2.345000</td>\n",
       "      <td>RX/OTC</td>\n",
       "    </tr>\n",
       "    <tr>\n",
       "      <th>681</th>\n",
       "      <td>vulvovaginal candidiasis</td>\n",
       "      <td>Miconazole-Skin Clnsr17</td>\n",
       "      <td>4.750000</td>\n",
       "      <td>3.000000</td>\n",
       "      <td>Cream</td>\n",
       "      <td>On Label</td>\n",
       "      <td>13.990000</td>\n",
       "      <td>4.000000</td>\n",
       "      <td>3.000000</td>\n",
       "      <td>OTC</td>\n",
       "    </tr>\n",
       "    <tr>\n",
       "      <th>682</th>\n",
       "      <td>vulvovaginal candidiasis</td>\n",
       "      <td>Miconazole-Skin Clnsr17</td>\n",
       "      <td>4.000000</td>\n",
       "      <td>1.000000</td>\n",
       "      <td>Other</td>\n",
       "      <td>On Label</td>\n",
       "      <td>125.990000</td>\n",
       "      <td>1.000000</td>\n",
       "      <td>1.000000</td>\n",
       "      <td>OTC</td>\n",
       "    </tr>\n",
       "    <tr>\n",
       "      <th>683</th>\n",
       "      <td>vulvovaginal candidiasis</td>\n",
       "      <td>Terconazole</td>\n",
       "      <td>3.525000</td>\n",
       "      <td>3.047500</td>\n",
       "      <td>Cream</td>\n",
       "      <td>On Label</td>\n",
       "      <td>68.990000</td>\n",
       "      <td>20.000000</td>\n",
       "      <td>2.717500</td>\n",
       "      <td>RX</td>\n",
       "    </tr>\n",
       "    <tr>\n",
       "      <th>684</th>\n",
       "      <td>vulvovaginal candidiasis</td>\n",
       "      <td>Tioconazole</td>\n",
       "      <td>3.852500</td>\n",
       "      <td>2.022500</td>\n",
       "      <td>Other</td>\n",
       "      <td>On Label</td>\n",
       "      <td>22.990000</td>\n",
       "      <td>145.000000</td>\n",
       "      <td>1.827500</td>\n",
       "      <td>OTC</td>\n",
       "    </tr>\n",
       "  </tbody>\n",
       "</table>\n",
       "<p>685 rows × 10 columns</p>\n",
       "</div>"
      ],
      "text/plain": [
       "                     Condition                         Drug  EaseOfUse  \\\n",
       "0    Acute Bacterial Sinusitis                  Amoxicillin   3.852353   \n",
       "1    Acute Bacterial Sinusitis  Amoxicillin-Pot Clavulanate   3.470000   \n",
       "2    Acute Bacterial Sinusitis  Amoxicillin-Pot Clavulanate   3.121429   \n",
       "3    Acute Bacterial Sinusitis                   Ampicillin   2.000000   \n",
       "4    Acute Bacterial Sinusitis                   Ampicillin   3.250000   \n",
       "..                         ...                          ...        ...   \n",
       "680   vulvovaginal candidiasis           Miconazole Nitrate   3.465000   \n",
       "681   vulvovaginal candidiasis      Miconazole-Skin Clnsr17   4.750000   \n",
       "682   vulvovaginal candidiasis      Miconazole-Skin Clnsr17   4.000000   \n",
       "683   vulvovaginal candidiasis                  Terconazole   3.525000   \n",
       "684   vulvovaginal candidiasis                  Tioconazole   3.852500   \n",
       "\n",
       "     Effective            Form Indication       Price     Reviews  \\\n",
       "0     3.655882         Capsule   On Label   12.590000   86.294118   \n",
       "1     3.290000  Liquid (Drink)  Off Label  287.370000   43.000000   \n",
       "2     2.962857          Tablet   On Label   70.608571  267.285714   \n",
       "3     3.000000         Capsule   On Label   12.590000    1.000000   \n",
       "4     3.000000          Tablet   On Label  125.240000   15.000000   \n",
       "..         ...             ...        ...         ...         ...   \n",
       "680   2.770000           Cream   On Label   13.990000   19.500000   \n",
       "681   3.000000           Cream   On Label   13.990000    4.000000   \n",
       "682   1.000000           Other   On Label  125.990000    1.000000   \n",
       "683   3.047500           Cream   On Label   68.990000   20.000000   \n",
       "684   2.022500           Other   On Label   22.990000  145.000000   \n",
       "\n",
       "     Satisfaction    Type  \n",
       "0        3.197647      RX  \n",
       "1        2.590000      RX  \n",
       "2        2.248571      RX  \n",
       "3        1.000000      RX  \n",
       "4        3.000000      RX  \n",
       "..            ...     ...  \n",
       "680      2.345000  RX/OTC  \n",
       "681      3.000000     OTC  \n",
       "682      1.000000     OTC  \n",
       "683      2.717500      RX  \n",
       "684      1.827500     OTC  \n",
       "\n",
       "[685 rows x 10 columns]"
      ]
     },
     "execution_count": 130,
     "metadata": {},
     "output_type": "execute_result"
    }
   ],
   "source": [
    "import pandas as pd\n",
    "import numpy as np\n",
    "import matplotlib.pyplot as plt\n",
    "from matplotlib import rcParams\n",
    "import seaborn as sns\n",
    "bd= pd.read_csv(\"Drug_clean.csv\", sep=\",\")\n",
    "bd"
   ]
  },
  {
   "cell_type": "code",
   "execution_count": 136,
   "id": "9ffba03c",
   "metadata": {},
   "outputs": [
    {
     "data": {
      "text/plain": [
       "(685, 10)"
      ]
     },
     "execution_count": 136,
     "metadata": {},
     "output_type": "execute_result"
    }
   ],
   "source": [
    "bd.shape"
   ]
  },
  {
   "cell_type": "code",
   "execution_count": 108,
   "id": "f13677a7",
   "metadata": {},
   "outputs": [
    {
     "data": {
      "text/html": [
       "<div>\n",
       "<style scoped>\n",
       "    .dataframe tbody tr th:only-of-type {\n",
       "        vertical-align: middle;\n",
       "    }\n",
       "\n",
       "    .dataframe tbody tr th {\n",
       "        vertical-align: top;\n",
       "    }\n",
       "\n",
       "    .dataframe thead th {\n",
       "        text-align: right;\n",
       "    }\n",
       "</style>\n",
       "<table border=\"1\" class=\"dataframe\">\n",
       "  <thead>\n",
       "    <tr style=\"text-align: right;\">\n",
       "      <th></th>\n",
       "      <th>Condición</th>\n",
       "      <th>Medicamento</th>\n",
       "      <th>Facilidad de uso</th>\n",
       "      <th>Efectividad</th>\n",
       "      <th>Presentación</th>\n",
       "      <th>Indicaciones</th>\n",
       "      <th>Precio</th>\n",
       "      <th>Reseñas</th>\n",
       "      <th>Satisfacción</th>\n",
       "      <th>Tipo</th>\n",
       "    </tr>\n",
       "  </thead>\n",
       "  <tbody>\n",
       "    <tr>\n",
       "      <th>675</th>\n",
       "      <td>vulvovaginal candidiasis</td>\n",
       "      <td>Butoconazole Nitrate</td>\n",
       "      <td>5.000000</td>\n",
       "      <td>5.000000</td>\n",
       "      <td>Other</td>\n",
       "      <td>On Label</td>\n",
       "      <td>125.99</td>\n",
       "      <td>1.000000</td>\n",
       "      <td>5.000000</td>\n",
       "      <td>OTC</td>\n",
       "    </tr>\n",
       "    <tr>\n",
       "      <th>676</th>\n",
       "      <td>vulvovaginal candidiasis</td>\n",
       "      <td>Butoconazole Nitrate</td>\n",
       "      <td>5.000000</td>\n",
       "      <td>5.000000</td>\n",
       "      <td>Other</td>\n",
       "      <td>On Label</td>\n",
       "      <td>125.99</td>\n",
       "      <td>1.000000</td>\n",
       "      <td>5.000000</td>\n",
       "      <td>RX</td>\n",
       "    </tr>\n",
       "    <tr>\n",
       "      <th>677</th>\n",
       "      <td>vulvovaginal candidiasis</td>\n",
       "      <td>Clotrimazole</td>\n",
       "      <td>4.625000</td>\n",
       "      <td>4.750000</td>\n",
       "      <td>Cream</td>\n",
       "      <td>On Label</td>\n",
       "      <td>25.63</td>\n",
       "      <td>1.750000</td>\n",
       "      <td>4.750000</td>\n",
       "      <td>OTC</td>\n",
       "    </tr>\n",
       "    <tr>\n",
       "      <th>678</th>\n",
       "      <td>vulvovaginal candidiasis</td>\n",
       "      <td>Fluconazole</td>\n",
       "      <td>4.415000</td>\n",
       "      <td>3.600000</td>\n",
       "      <td>Tablet</td>\n",
       "      <td>On Label</td>\n",
       "      <td>17.99</td>\n",
       "      <td>196.500000</td>\n",
       "      <td>3.220000</td>\n",
       "      <td>RX</td>\n",
       "    </tr>\n",
       "    <tr>\n",
       "      <th>679</th>\n",
       "      <td>vulvovaginal candidiasis</td>\n",
       "      <td>Miconazole Nitrate</td>\n",
       "      <td>3.575714</td>\n",
       "      <td>2.708571</td>\n",
       "      <td>Cream</td>\n",
       "      <td>On Label</td>\n",
       "      <td>13.99</td>\n",
       "      <td>63.142857</td>\n",
       "      <td>2.192857</td>\n",
       "      <td>OTC</td>\n",
       "    </tr>\n",
       "    <tr>\n",
       "      <th>680</th>\n",
       "      <td>vulvovaginal candidiasis</td>\n",
       "      <td>Miconazole Nitrate</td>\n",
       "      <td>3.465000</td>\n",
       "      <td>2.770000</td>\n",
       "      <td>Cream</td>\n",
       "      <td>On Label</td>\n",
       "      <td>13.99</td>\n",
       "      <td>19.500000</td>\n",
       "      <td>2.345000</td>\n",
       "      <td>RX/OTC</td>\n",
       "    </tr>\n",
       "    <tr>\n",
       "      <th>681</th>\n",
       "      <td>vulvovaginal candidiasis</td>\n",
       "      <td>Miconazole-Skin Clnsr17</td>\n",
       "      <td>4.750000</td>\n",
       "      <td>3.000000</td>\n",
       "      <td>Cream</td>\n",
       "      <td>On Label</td>\n",
       "      <td>13.99</td>\n",
       "      <td>4.000000</td>\n",
       "      <td>3.000000</td>\n",
       "      <td>OTC</td>\n",
       "    </tr>\n",
       "    <tr>\n",
       "      <th>682</th>\n",
       "      <td>vulvovaginal candidiasis</td>\n",
       "      <td>Miconazole-Skin Clnsr17</td>\n",
       "      <td>4.000000</td>\n",
       "      <td>1.000000</td>\n",
       "      <td>Other</td>\n",
       "      <td>On Label</td>\n",
       "      <td>125.99</td>\n",
       "      <td>1.000000</td>\n",
       "      <td>1.000000</td>\n",
       "      <td>OTC</td>\n",
       "    </tr>\n",
       "    <tr>\n",
       "      <th>683</th>\n",
       "      <td>vulvovaginal candidiasis</td>\n",
       "      <td>Terconazole</td>\n",
       "      <td>3.525000</td>\n",
       "      <td>3.047500</td>\n",
       "      <td>Cream</td>\n",
       "      <td>On Label</td>\n",
       "      <td>68.99</td>\n",
       "      <td>20.000000</td>\n",
       "      <td>2.717500</td>\n",
       "      <td>RX</td>\n",
       "    </tr>\n",
       "    <tr>\n",
       "      <th>684</th>\n",
       "      <td>vulvovaginal candidiasis</td>\n",
       "      <td>Tioconazole</td>\n",
       "      <td>3.852500</td>\n",
       "      <td>2.022500</td>\n",
       "      <td>Other</td>\n",
       "      <td>On Label</td>\n",
       "      <td>22.99</td>\n",
       "      <td>145.000000</td>\n",
       "      <td>1.827500</td>\n",
       "      <td>OTC</td>\n",
       "    </tr>\n",
       "  </tbody>\n",
       "</table>\n",
       "</div>"
      ],
      "text/plain": [
       "                    Condición              Medicamento  Facilidad de uso  \\\n",
       "675  vulvovaginal candidiasis     Butoconazole Nitrate          5.000000   \n",
       "676  vulvovaginal candidiasis     Butoconazole Nitrate          5.000000   \n",
       "677  vulvovaginal candidiasis             Clotrimazole          4.625000   \n",
       "678  vulvovaginal candidiasis              Fluconazole          4.415000   \n",
       "679  vulvovaginal candidiasis       Miconazole Nitrate          3.575714   \n",
       "680  vulvovaginal candidiasis       Miconazole Nitrate          3.465000   \n",
       "681  vulvovaginal candidiasis  Miconazole-Skin Clnsr17          4.750000   \n",
       "682  vulvovaginal candidiasis  Miconazole-Skin Clnsr17          4.000000   \n",
       "683  vulvovaginal candidiasis              Terconazole          3.525000   \n",
       "684  vulvovaginal candidiasis              Tioconazole          3.852500   \n",
       "\n",
       "     Efectividad Presentación Indicaciones  Precio     Reseñas  Satisfacción  \\\n",
       "675     5.000000        Other     On Label  125.99    1.000000      5.000000   \n",
       "676     5.000000        Other     On Label  125.99    1.000000      5.000000   \n",
       "677     4.750000        Cream     On Label   25.63    1.750000      4.750000   \n",
       "678     3.600000       Tablet     On Label   17.99  196.500000      3.220000   \n",
       "679     2.708571        Cream     On Label   13.99   63.142857      2.192857   \n",
       "680     2.770000        Cream     On Label   13.99   19.500000      2.345000   \n",
       "681     3.000000        Cream     On Label   13.99    4.000000      3.000000   \n",
       "682     1.000000        Other     On Label  125.99    1.000000      1.000000   \n",
       "683     3.047500        Cream     On Label   68.99   20.000000      2.717500   \n",
       "684     2.022500        Other     On Label   22.99  145.000000      1.827500   \n",
       "\n",
       "       Tipo  \n",
       "675     OTC  \n",
       "676      RX  \n",
       "677     OTC  \n",
       "678      RX  \n",
       "679     OTC  \n",
       "680  RX/OTC  \n",
       "681     OTC  \n",
       "682     OTC  \n",
       "683      RX  \n",
       "684     OTC  "
      ]
     },
     "execution_count": 108,
     "metadata": {},
     "output_type": "execute_result"
    }
   ],
   "source": [
    "bd.tail(10)"
   ]
  },
  {
   "cell_type": "markdown",
   "id": "4d0ac85e",
   "metadata": {},
   "source": [
    "## Análisis general del dataset\n",
    "\n"
   ]
  },
  {
   "cell_type": "markdown",
   "id": "e25b0130",
   "metadata": {},
   "source": [
    "**Forma y tamaño del dataset**"
   ]
  },
  {
   "cell_type": "code",
   "execution_count": 132,
   "id": "d15de497",
   "metadata": {},
   "outputs": [
    {
     "name": "stdout",
     "output_type": "stream",
     "text": [
      "<class 'pandas.core.frame.DataFrame'>\n",
      "RangeIndex: 685 entries, 0 to 684\n",
      "Data columns (total 10 columns):\n",
      " #   Column            Non-Null Count  Dtype  \n",
      "---  ------            --------------  -----  \n",
      " 0   Afectación        685 non-null    object \n",
      " 1   Medicamento       685 non-null    object \n",
      " 2   Facilidad de uso  685 non-null    float64\n",
      " 3   Efectividad       685 non-null    float64\n",
      " 4   Presentación      685 non-null    object \n",
      " 5   Indicaciones      685 non-null    object \n",
      " 6   Precio            685 non-null    float64\n",
      " 7   Reseñas           685 non-null    float64\n",
      " 8   Satisfacción      685 non-null    float64\n",
      " 9   Tipo              685 non-null    object \n",
      "dtypes: float64(5), object(5)\n",
      "memory usage: 53.6+ KB\n"
     ]
    }
   ],
   "source": [
    "bd.info()"
   ]
  },
  {
   "cell_type": "code",
   "execution_count": 111,
   "id": "4b2b24ba",
   "metadata": {},
   "outputs": [
    {
     "data": {
      "text/plain": [
       "685"
      ]
     },
     "execution_count": 111,
     "metadata": {},
     "output_type": "execute_result"
    }
   ],
   "source": [
    "##Tamaño\n",
    "len(bd)"
   ]
  },
  {
   "cell_type": "markdown",
   "id": "c90c5059",
   "metadata": {},
   "source": [
    "**Evaluación de los nombres de las variables**\n"
   ]
  },
  {
   "cell_type": "code",
   "execution_count": 134,
   "id": "6ebf26f9",
   "metadata": {},
   "outputs": [
    {
     "data": {
      "text/html": [
       "<div>\n",
       "<style scoped>\n",
       "    .dataframe tbody tr th:only-of-type {\n",
       "        vertical-align: middle;\n",
       "    }\n",
       "\n",
       "    .dataframe tbody tr th {\n",
       "        vertical-align: top;\n",
       "    }\n",
       "\n",
       "    .dataframe thead th {\n",
       "        text-align: right;\n",
       "    }\n",
       "</style>\n",
       "<table border=\"1\" class=\"dataframe\">\n",
       "  <thead>\n",
       "    <tr style=\"text-align: right;\">\n",
       "      <th></th>\n",
       "      <th>Afectación</th>\n",
       "      <th>Medicamento</th>\n",
       "      <th>Facilidad de uso</th>\n",
       "      <th>Efectividad</th>\n",
       "      <th>Presentación</th>\n",
       "      <th>Indicaciones</th>\n",
       "      <th>Precio</th>\n",
       "      <th>Reseñas</th>\n",
       "      <th>Satisfacción</th>\n",
       "      <th>Tipo</th>\n",
       "    </tr>\n",
       "  </thead>\n",
       "  <tbody>\n",
       "    <tr>\n",
       "      <th>0</th>\n",
       "      <td>Acute Bacterial Sinusitis</td>\n",
       "      <td>Amoxicillin</td>\n",
       "      <td>3.852353</td>\n",
       "      <td>3.655882</td>\n",
       "      <td>Capsule</td>\n",
       "      <td>On Label</td>\n",
       "      <td>12.590000</td>\n",
       "      <td>86.294118</td>\n",
       "      <td>3.197647</td>\n",
       "      <td>RX</td>\n",
       "    </tr>\n",
       "    <tr>\n",
       "      <th>1</th>\n",
       "      <td>Acute Bacterial Sinusitis</td>\n",
       "      <td>Amoxicillin-Pot Clavulanate</td>\n",
       "      <td>3.470000</td>\n",
       "      <td>3.290000</td>\n",
       "      <td>Liquid (Drink)</td>\n",
       "      <td>Off Label</td>\n",
       "      <td>287.370000</td>\n",
       "      <td>43.000000</td>\n",
       "      <td>2.590000</td>\n",
       "      <td>RX</td>\n",
       "    </tr>\n",
       "    <tr>\n",
       "      <th>2</th>\n",
       "      <td>Acute Bacterial Sinusitis</td>\n",
       "      <td>Amoxicillin-Pot Clavulanate</td>\n",
       "      <td>3.121429</td>\n",
       "      <td>2.962857</td>\n",
       "      <td>Tablet</td>\n",
       "      <td>On Label</td>\n",
       "      <td>70.608571</td>\n",
       "      <td>267.285714</td>\n",
       "      <td>2.248571</td>\n",
       "      <td>RX</td>\n",
       "    </tr>\n",
       "    <tr>\n",
       "      <th>3</th>\n",
       "      <td>Acute Bacterial Sinusitis</td>\n",
       "      <td>Ampicillin</td>\n",
       "      <td>2.000000</td>\n",
       "      <td>3.000000</td>\n",
       "      <td>Capsule</td>\n",
       "      <td>On Label</td>\n",
       "      <td>12.590000</td>\n",
       "      <td>1.000000</td>\n",
       "      <td>1.000000</td>\n",
       "      <td>RX</td>\n",
       "    </tr>\n",
       "    <tr>\n",
       "      <th>4</th>\n",
       "      <td>Acute Bacterial Sinusitis</td>\n",
       "      <td>Ampicillin</td>\n",
       "      <td>3.250000</td>\n",
       "      <td>3.000000</td>\n",
       "      <td>Tablet</td>\n",
       "      <td>On Label</td>\n",
       "      <td>125.240000</td>\n",
       "      <td>15.000000</td>\n",
       "      <td>3.000000</td>\n",
       "      <td>RX</td>\n",
       "    </tr>\n",
       "    <tr>\n",
       "      <th>5</th>\n",
       "      <td>Acute Bacterial Sinusitis</td>\n",
       "      <td>Ampicillin Sodium</td>\n",
       "      <td>3.000000</td>\n",
       "      <td>3.000000</td>\n",
       "      <td>Tablet</td>\n",
       "      <td>Off Label</td>\n",
       "      <td>143.215000</td>\n",
       "      <td>1.000000</td>\n",
       "      <td>3.000000</td>\n",
       "      <td>RX</td>\n",
       "    </tr>\n",
       "    <tr>\n",
       "      <th>6</th>\n",
       "      <td>Acute Bacterial Sinusitis</td>\n",
       "      <td>Azithromycin</td>\n",
       "      <td>4.091667</td>\n",
       "      <td>3.341667</td>\n",
       "      <td>Tablet</td>\n",
       "      <td>On Label</td>\n",
       "      <td>32.100000</td>\n",
       "      <td>490.000000</td>\n",
       "      <td>2.758333</td>\n",
       "      <td>RX</td>\n",
       "    </tr>\n",
       "    <tr>\n",
       "      <th>7</th>\n",
       "      <td>Acute Bacterial Sinusitis</td>\n",
       "      <td>Clarithromycin</td>\n",
       "      <td>3.582000</td>\n",
       "      <td>3.458000</td>\n",
       "      <td>Tablet</td>\n",
       "      <td>On Label</td>\n",
       "      <td>99.490000</td>\n",
       "      <td>141.600000</td>\n",
       "      <td>2.780000</td>\n",
       "      <td>RX</td>\n",
       "    </tr>\n",
       "    <tr>\n",
       "      <th>8</th>\n",
       "      <td>Acute Bacterial Sinusitis</td>\n",
       "      <td>Erythromycin</td>\n",
       "      <td>2.895000</td>\n",
       "      <td>3.255000</td>\n",
       "      <td>Tablet</td>\n",
       "      <td>On Label</td>\n",
       "      <td>125.240000</td>\n",
       "      <td>41.000000</td>\n",
       "      <td>2.510000</td>\n",
       "      <td>RX</td>\n",
       "    </tr>\n",
       "    <tr>\n",
       "      <th>9</th>\n",
       "      <td>Acute Bacterial Sinusitis</td>\n",
       "      <td>Erythromycin Ethylsuccinate</td>\n",
       "      <td>2.944444</td>\n",
       "      <td>3.277778</td>\n",
       "      <td>Liquid (Drink)</td>\n",
       "      <td>On Label</td>\n",
       "      <td>332.630000</td>\n",
       "      <td>3.666667</td>\n",
       "      <td>3.222222</td>\n",
       "      <td>RX</td>\n",
       "    </tr>\n",
       "  </tbody>\n",
       "</table>\n",
       "</div>"
      ],
      "text/plain": [
       "                  Afectación                  Medicamento  Facilidad de uso  \\\n",
       "0  Acute Bacterial Sinusitis                  Amoxicillin          3.852353   \n",
       "1  Acute Bacterial Sinusitis  Amoxicillin-Pot Clavulanate          3.470000   \n",
       "2  Acute Bacterial Sinusitis  Amoxicillin-Pot Clavulanate          3.121429   \n",
       "3  Acute Bacterial Sinusitis                   Ampicillin          2.000000   \n",
       "4  Acute Bacterial Sinusitis                   Ampicillin          3.250000   \n",
       "5  Acute Bacterial Sinusitis            Ampicillin Sodium          3.000000   \n",
       "6  Acute Bacterial Sinusitis                 Azithromycin          4.091667   \n",
       "7  Acute Bacterial Sinusitis               Clarithromycin          3.582000   \n",
       "8  Acute Bacterial Sinusitis                 Erythromycin          2.895000   \n",
       "9  Acute Bacterial Sinusitis  Erythromycin Ethylsuccinate          2.944444   \n",
       "\n",
       "   Efectividad    Presentación Indicaciones      Precio     Reseñas  \\\n",
       "0     3.655882         Capsule     On Label   12.590000   86.294118   \n",
       "1     3.290000  Liquid (Drink)    Off Label  287.370000   43.000000   \n",
       "2     2.962857          Tablet     On Label   70.608571  267.285714   \n",
       "3     3.000000         Capsule     On Label   12.590000    1.000000   \n",
       "4     3.000000          Tablet     On Label  125.240000   15.000000   \n",
       "5     3.000000          Tablet    Off Label  143.215000    1.000000   \n",
       "6     3.341667          Tablet     On Label   32.100000  490.000000   \n",
       "7     3.458000          Tablet     On Label   99.490000  141.600000   \n",
       "8     3.255000          Tablet     On Label  125.240000   41.000000   \n",
       "9     3.277778  Liquid (Drink)     On Label  332.630000    3.666667   \n",
       "\n",
       "   Satisfacción Tipo  \n",
       "0      3.197647   RX  \n",
       "1      2.590000   RX  \n",
       "2      2.248571   RX  \n",
       "3      1.000000   RX  \n",
       "4      3.000000   RX  \n",
       "5      3.000000   RX  \n",
       "6      2.758333   RX  \n",
       "7      2.780000   RX  \n",
       "8      2.510000   RX  \n",
       "9      3.222222   RX  "
      ]
     },
     "execution_count": 134,
     "metadata": {},
     "output_type": "execute_result"
    }
   ],
   "source": [
    "bd.rename(columns={\n",
    "    'Condition':'Afectación',\n",
    "    'Drug':'Medicamento',\n",
    "    'EaseOfUse':'Facilidad de uso',\n",
    "    'Effective':'Efectividad',\n",
    "    'Form':'Presentación',\n",
    "    'Indication':'Indicaciones',\n",
    "    'Price':'Precio',\n",
    "    'Reviews':'Reseñas',\n",
    "    'Satisfaction':'Satisfacción',\n",
    "    'Type':'Tipo'\n",
    "}, inplace=True)\n",
    "bd.head(10)"
   ]
  },
  {
   "cell_type": "markdown",
   "id": "0a3ceb9c",
   "metadata": {},
   "source": [
    "**Revisión de los tipos de variables**\n",
    "\t"
   ]
  },
  {
   "cell_type": "code",
   "execution_count": 112,
   "id": "dd5cafe8",
   "metadata": {},
   "outputs": [
    {
     "name": "stdout",
     "output_type": "stream",
     "text": [
      "Condición            object\n",
      "Medicamento          object\n",
      "Facilidad de uso    float64\n",
      "Efectividad         float64\n",
      "Presentación         object\n",
      "Indicaciones         object\n",
      "Precio              float64\n",
      "Reseñas             float64\n",
      "Satisfacción        float64\n",
      "Tipo                 object\n",
      "dtype: object\n"
     ]
    }
   ],
   "source": [
    "print(bd.dtypes)"
   ]
  },
  {
   "cell_type": "markdown",
   "id": "87a67934",
   "metadata": {},
   "source": [
    "## Análisis Univariado:\n"
   ]
  },
  {
   "cell_type": "markdown",
   "id": "d754ec55",
   "metadata": {},
   "source": [
    "**Identificar Valores Nulos**"
   ]
  },
  {
   "cell_type": "code",
   "execution_count": 113,
   "id": "d15b0d1d",
   "metadata": {
    "scrolled": true
   },
   "outputs": [
    {
     "data": {
      "text/html": [
       "<div>\n",
       "<style scoped>\n",
       "    .dataframe tbody tr th:only-of-type {\n",
       "        vertical-align: middle;\n",
       "    }\n",
       "\n",
       "    .dataframe tbody tr th {\n",
       "        vertical-align: top;\n",
       "    }\n",
       "\n",
       "    .dataframe thead th {\n",
       "        text-align: right;\n",
       "    }\n",
       "</style>\n",
       "<table border=\"1\" class=\"dataframe\">\n",
       "  <thead>\n",
       "    <tr style=\"text-align: right;\">\n",
       "      <th></th>\n",
       "      <th>Condición</th>\n",
       "      <th>Medicamento</th>\n",
       "      <th>Facilidad de uso</th>\n",
       "      <th>Efectividad</th>\n",
       "      <th>Presentación</th>\n",
       "      <th>Indicaciones</th>\n",
       "      <th>Precio</th>\n",
       "      <th>Reseñas</th>\n",
       "      <th>Satisfacción</th>\n",
       "      <th>Tipo</th>\n",
       "    </tr>\n",
       "  </thead>\n",
       "  <tbody>\n",
       "    <tr>\n",
       "      <th>0</th>\n",
       "      <td>False</td>\n",
       "      <td>False</td>\n",
       "      <td>False</td>\n",
       "      <td>False</td>\n",
       "      <td>False</td>\n",
       "      <td>False</td>\n",
       "      <td>False</td>\n",
       "      <td>False</td>\n",
       "      <td>False</td>\n",
       "      <td>False</td>\n",
       "    </tr>\n",
       "    <tr>\n",
       "      <th>1</th>\n",
       "      <td>False</td>\n",
       "      <td>False</td>\n",
       "      <td>False</td>\n",
       "      <td>False</td>\n",
       "      <td>False</td>\n",
       "      <td>False</td>\n",
       "      <td>False</td>\n",
       "      <td>False</td>\n",
       "      <td>False</td>\n",
       "      <td>False</td>\n",
       "    </tr>\n",
       "    <tr>\n",
       "      <th>2</th>\n",
       "      <td>False</td>\n",
       "      <td>False</td>\n",
       "      <td>False</td>\n",
       "      <td>False</td>\n",
       "      <td>False</td>\n",
       "      <td>False</td>\n",
       "      <td>False</td>\n",
       "      <td>False</td>\n",
       "      <td>False</td>\n",
       "      <td>False</td>\n",
       "    </tr>\n",
       "    <tr>\n",
       "      <th>3</th>\n",
       "      <td>False</td>\n",
       "      <td>False</td>\n",
       "      <td>False</td>\n",
       "      <td>False</td>\n",
       "      <td>False</td>\n",
       "      <td>False</td>\n",
       "      <td>False</td>\n",
       "      <td>False</td>\n",
       "      <td>False</td>\n",
       "      <td>False</td>\n",
       "    </tr>\n",
       "    <tr>\n",
       "      <th>4</th>\n",
       "      <td>False</td>\n",
       "      <td>False</td>\n",
       "      <td>False</td>\n",
       "      <td>False</td>\n",
       "      <td>False</td>\n",
       "      <td>False</td>\n",
       "      <td>False</td>\n",
       "      <td>False</td>\n",
       "      <td>False</td>\n",
       "      <td>False</td>\n",
       "    </tr>\n",
       "  </tbody>\n",
       "</table>\n",
       "</div>"
      ],
      "text/plain": [
       "   Condición  Medicamento  Facilidad de uso  Efectividad  Presentación  \\\n",
       "0      False        False             False        False         False   \n",
       "1      False        False             False        False         False   \n",
       "2      False        False             False        False         False   \n",
       "3      False        False             False        False         False   \n",
       "4      False        False             False        False         False   \n",
       "\n",
       "   Indicaciones  Precio  Reseñas  Satisfacción   Tipo  \n",
       "0         False   False    False         False  False  \n",
       "1         False   False    False         False  False  \n",
       "2         False   False    False         False  False  \n",
       "3         False   False    False         False  False  \n",
       "4         False   False    False         False  False  "
      ]
     },
     "execution_count": 113,
     "metadata": {},
     "output_type": "execute_result"
    }
   ],
   "source": [
    "missing_data= bd.isnull()\n",
    "missing_data.head(5)"
   ]
  },
  {
   "cell_type": "code",
   "execution_count": 116,
   "id": "b6ba7ebc",
   "metadata": {},
   "outputs": [
    {
     "data": {
      "text/html": [
       "<div>\n",
       "<style scoped>\n",
       "    .dataframe tbody tr th:only-of-type {\n",
       "        vertical-align: middle;\n",
       "    }\n",
       "\n",
       "    .dataframe tbody tr th {\n",
       "        vertical-align: top;\n",
       "    }\n",
       "\n",
       "    .dataframe thead th {\n",
       "        text-align: right;\n",
       "    }\n",
       "</style>\n",
       "<table border=\"1\" class=\"dataframe\">\n",
       "  <thead>\n",
       "    <tr style=\"text-align: right;\">\n",
       "      <th></th>\n",
       "      <th>Condición</th>\n",
       "      <th>Medicamento</th>\n",
       "      <th>Facilidad de uso</th>\n",
       "      <th>Efectividad</th>\n",
       "      <th>Presentación</th>\n",
       "      <th>Indicaciones</th>\n",
       "      <th>Precio</th>\n",
       "      <th>Reseñas</th>\n",
       "      <th>Satisfacción</th>\n",
       "      <th>Tipo</th>\n",
       "    </tr>\n",
       "  </thead>\n",
       "  <tbody>\n",
       "    <tr>\n",
       "      <th>0</th>\n",
       "      <td>Acute Bacterial Sinusitis</td>\n",
       "      <td>Amoxicillin</td>\n",
       "      <td>3.852353</td>\n",
       "      <td>3.655882</td>\n",
       "      <td>Capsule</td>\n",
       "      <td>On Label</td>\n",
       "      <td>12.590000</td>\n",
       "      <td>86.294118</td>\n",
       "      <td>3.197647</td>\n",
       "      <td>RX</td>\n",
       "    </tr>\n",
       "    <tr>\n",
       "      <th>1</th>\n",
       "      <td>Acute Bacterial Sinusitis</td>\n",
       "      <td>Amoxicillin-Pot Clavulanate</td>\n",
       "      <td>3.470000</td>\n",
       "      <td>3.290000</td>\n",
       "      <td>Liquid (Drink)</td>\n",
       "      <td>Off Label</td>\n",
       "      <td>287.370000</td>\n",
       "      <td>43.000000</td>\n",
       "      <td>2.590000</td>\n",
       "      <td>RX</td>\n",
       "    </tr>\n",
       "    <tr>\n",
       "      <th>2</th>\n",
       "      <td>Acute Bacterial Sinusitis</td>\n",
       "      <td>Amoxicillin-Pot Clavulanate</td>\n",
       "      <td>3.121429</td>\n",
       "      <td>2.962857</td>\n",
       "      <td>Tablet</td>\n",
       "      <td>On Label</td>\n",
       "      <td>70.608571</td>\n",
       "      <td>267.285714</td>\n",
       "      <td>2.248571</td>\n",
       "      <td>RX</td>\n",
       "    </tr>\n",
       "    <tr>\n",
       "      <th>3</th>\n",
       "      <td>Acute Bacterial Sinusitis</td>\n",
       "      <td>Ampicillin</td>\n",
       "      <td>2.000000</td>\n",
       "      <td>3.000000</td>\n",
       "      <td>Capsule</td>\n",
       "      <td>On Label</td>\n",
       "      <td>12.590000</td>\n",
       "      <td>1.000000</td>\n",
       "      <td>1.000000</td>\n",
       "      <td>RX</td>\n",
       "    </tr>\n",
       "    <tr>\n",
       "      <th>4</th>\n",
       "      <td>Acute Bacterial Sinusitis</td>\n",
       "      <td>Ampicillin</td>\n",
       "      <td>3.250000</td>\n",
       "      <td>3.000000</td>\n",
       "      <td>Tablet</td>\n",
       "      <td>On Label</td>\n",
       "      <td>125.240000</td>\n",
       "      <td>15.000000</td>\n",
       "      <td>3.000000</td>\n",
       "      <td>RX</td>\n",
       "    </tr>\n",
       "    <tr>\n",
       "      <th>...</th>\n",
       "      <td>...</td>\n",
       "      <td>...</td>\n",
       "      <td>...</td>\n",
       "      <td>...</td>\n",
       "      <td>...</td>\n",
       "      <td>...</td>\n",
       "      <td>...</td>\n",
       "      <td>...</td>\n",
       "      <td>...</td>\n",
       "      <td>...</td>\n",
       "    </tr>\n",
       "    <tr>\n",
       "      <th>680</th>\n",
       "      <td>vulvovaginal candidiasis</td>\n",
       "      <td>Miconazole Nitrate</td>\n",
       "      <td>3.465000</td>\n",
       "      <td>2.770000</td>\n",
       "      <td>Cream</td>\n",
       "      <td>On Label</td>\n",
       "      <td>13.990000</td>\n",
       "      <td>19.500000</td>\n",
       "      <td>2.345000</td>\n",
       "      <td>RX/OTC</td>\n",
       "    </tr>\n",
       "    <tr>\n",
       "      <th>681</th>\n",
       "      <td>vulvovaginal candidiasis</td>\n",
       "      <td>Miconazole-Skin Clnsr17</td>\n",
       "      <td>4.750000</td>\n",
       "      <td>3.000000</td>\n",
       "      <td>Cream</td>\n",
       "      <td>On Label</td>\n",
       "      <td>13.990000</td>\n",
       "      <td>4.000000</td>\n",
       "      <td>3.000000</td>\n",
       "      <td>OTC</td>\n",
       "    </tr>\n",
       "    <tr>\n",
       "      <th>682</th>\n",
       "      <td>vulvovaginal candidiasis</td>\n",
       "      <td>Miconazole-Skin Clnsr17</td>\n",
       "      <td>4.000000</td>\n",
       "      <td>1.000000</td>\n",
       "      <td>Other</td>\n",
       "      <td>On Label</td>\n",
       "      <td>125.990000</td>\n",
       "      <td>1.000000</td>\n",
       "      <td>1.000000</td>\n",
       "      <td>OTC</td>\n",
       "    </tr>\n",
       "    <tr>\n",
       "      <th>683</th>\n",
       "      <td>vulvovaginal candidiasis</td>\n",
       "      <td>Terconazole</td>\n",
       "      <td>3.525000</td>\n",
       "      <td>3.047500</td>\n",
       "      <td>Cream</td>\n",
       "      <td>On Label</td>\n",
       "      <td>68.990000</td>\n",
       "      <td>20.000000</td>\n",
       "      <td>2.717500</td>\n",
       "      <td>RX</td>\n",
       "    </tr>\n",
       "    <tr>\n",
       "      <th>684</th>\n",
       "      <td>vulvovaginal candidiasis</td>\n",
       "      <td>Tioconazole</td>\n",
       "      <td>3.852500</td>\n",
       "      <td>2.022500</td>\n",
       "      <td>Other</td>\n",
       "      <td>On Label</td>\n",
       "      <td>22.990000</td>\n",
       "      <td>145.000000</td>\n",
       "      <td>1.827500</td>\n",
       "      <td>OTC</td>\n",
       "    </tr>\n",
       "  </tbody>\n",
       "</table>\n",
       "<p>685 rows × 10 columns</p>\n",
       "</div>"
      ],
      "text/plain": [
       "                     Condición                  Medicamento  Facilidad de uso  \\\n",
       "0    Acute Bacterial Sinusitis                  Amoxicillin          3.852353   \n",
       "1    Acute Bacterial Sinusitis  Amoxicillin-Pot Clavulanate          3.470000   \n",
       "2    Acute Bacterial Sinusitis  Amoxicillin-Pot Clavulanate          3.121429   \n",
       "3    Acute Bacterial Sinusitis                   Ampicillin          2.000000   \n",
       "4    Acute Bacterial Sinusitis                   Ampicillin          3.250000   \n",
       "..                         ...                          ...               ...   \n",
       "680   vulvovaginal candidiasis           Miconazole Nitrate          3.465000   \n",
       "681   vulvovaginal candidiasis      Miconazole-Skin Clnsr17          4.750000   \n",
       "682   vulvovaginal candidiasis      Miconazole-Skin Clnsr17          4.000000   \n",
       "683   vulvovaginal candidiasis                  Terconazole          3.525000   \n",
       "684   vulvovaginal candidiasis                  Tioconazole          3.852500   \n",
       "\n",
       "     Efectividad    Presentación Indicaciones      Precio     Reseñas  \\\n",
       "0       3.655882         Capsule     On Label   12.590000   86.294118   \n",
       "1       3.290000  Liquid (Drink)    Off Label  287.370000   43.000000   \n",
       "2       2.962857          Tablet     On Label   70.608571  267.285714   \n",
       "3       3.000000         Capsule     On Label   12.590000    1.000000   \n",
       "4       3.000000          Tablet     On Label  125.240000   15.000000   \n",
       "..           ...             ...          ...         ...         ...   \n",
       "680     2.770000           Cream     On Label   13.990000   19.500000   \n",
       "681     3.000000           Cream     On Label   13.990000    4.000000   \n",
       "682     1.000000           Other     On Label  125.990000    1.000000   \n",
       "683     3.047500           Cream     On Label   68.990000   20.000000   \n",
       "684     2.022500           Other     On Label   22.990000  145.000000   \n",
       "\n",
       "     Satisfacción    Tipo  \n",
       "0        3.197647      RX  \n",
       "1        2.590000      RX  \n",
       "2        2.248571      RX  \n",
       "3        1.000000      RX  \n",
       "4        3.000000      RX  \n",
       "..            ...     ...  \n",
       "680      2.345000  RX/OTC  \n",
       "681      3.000000     OTC  \n",
       "682      1.000000     OTC  \n",
       "683      2.717500      RX  \n",
       "684      1.827500     OTC  \n",
       "\n",
       "[685 rows x 10 columns]"
      ]
     },
     "execution_count": 116,
     "metadata": {},
     "output_type": "execute_result"
    }
   ],
   "source": [
    "bd.replace('\\r\\r\\n', 'NoInf', inplace=True)\n",
    "bd"
   ]
  },
  {
   "cell_type": "markdown",
   "id": "1632c7a9",
   "metadata": {},
   "source": [
    "**Analizar los Valores únicos de las variables discretas**"
   ]
  },
  {
   "cell_type": "code",
   "execution_count": 117,
   "id": "6ebcda13",
   "metadata": {},
   "outputs": [
    {
     "data": {
      "text/plain": [
       "array(['Capsule', 'Liquid (Drink)', 'Tablet', 'Cream', 'Liquid (Inject)',\n",
       "       'Other'], dtype=object)"
      ]
     },
     "execution_count": 117,
     "metadata": {},
     "output_type": "execute_result"
    }
   ],
   "source": [
    "pres=bd[\"Presentación\"].unique()\n",
    "pres"
   ]
  },
  {
   "cell_type": "code",
   "execution_count": 118,
   "id": "7ca174b4",
   "metadata": {},
   "outputs": [
    {
     "data": {
      "text/plain": [
       "Tablet             300\n",
       "Liquid (Drink)     119\n",
       "Cream               90\n",
       "Capsule             73\n",
       "Liquid (Inject)     57\n",
       "Other               46\n",
       "Name: Presentación, dtype: int64"
      ]
     },
     "execution_count": 118,
     "metadata": {},
     "output_type": "execute_result"
    }
   ],
   "source": [
    "bd['Presentación'].value_counts()"
   ]
  },
  {
   "cell_type": "code",
   "execution_count": 119,
   "id": "a82db6df",
   "metadata": {},
   "outputs": [
    {
     "data": {
      "text/plain": [
       "Tablet             0.437956\n",
       "Liquid (Drink)     0.173723\n",
       "Cream              0.131387\n",
       "Capsule            0.106569\n",
       "Liquid (Inject)    0.083212\n",
       "Other              0.067153\n",
       "Name: Presentación, dtype: float64"
      ]
     },
     "execution_count": 119,
     "metadata": {},
     "output_type": "execute_result"
    }
   ],
   "source": [
    "bd['Presentación'].value_counts(\"normalize=True\")"
   ]
  },
  {
   "cell_type": "code",
   "execution_count": 93,
   "id": "6a0b0c90",
   "metadata": {},
   "outputs": [
    {
     "data": {
      "image/png": "[encoded data removed]",
      "text/plain": [
       "<Figure size 640x480 with 1 Axes>"
      ]
     },
     "metadata": {},
     "output_type": "display_data"
    }
   ],
   "source": [
    "bd.Presentación.value_counts().plot(kind=\"bar\")\n",
    "plt.title(\"Tipos de Presentación\")\n",
    "plt.xlabel(\"Tipo de Presentación\")\n",
    "plt.xticks(rotation=0)\n",
    "plt.ylabel(\"frecuencia\")\n",
    "plt.show()"
   ]
  },
  {
   "cell_type": "code",
   "execution_count": 120,
   "id": "6e8aa35f",
   "metadata": {},
   "outputs": [
    {
     "data": {
      "text/plain": [
       "array(['On Label', 'Off Label', 'NoInf'], dtype=object)"
      ]
     },
     "execution_count": 120,
     "metadata": {},
     "output_type": "execute_result"
    }
   ],
   "source": [
    "indic=bd[\"Indicaciones\"].unique()\n",
    "indic"
   ]
  },
  {
   "cell_type": "code",
   "execution_count": 121,
   "id": "7098621c",
   "metadata": {},
   "outputs": [
    {
     "data": {
      "text/plain": [
       "On Label     548\n",
       "Off Label    129\n",
       "NoInf          8\n",
       "Name: Indicaciones, dtype: int64"
      ]
     },
     "execution_count": 121,
     "metadata": {},
     "output_type": "execute_result"
    }
   ],
   "source": [
    "bd['Indicaciones'].value_counts()"
   ]
  },
  {
   "cell_type": "code",
   "execution_count": 122,
   "id": "3a0ce6fb",
   "metadata": {},
   "outputs": [
    {
     "data": {
      "text/plain": [
       "On Label     0.800000\n",
       "Off Label    0.188321\n",
       "NoInf        0.011679\n",
       "Name: Indicaciones, dtype: float64"
      ]
     },
     "execution_count": 122,
     "metadata": {},
     "output_type": "execute_result"
    }
   ],
   "source": [
    "bd['Indicaciones'].value_counts(\"normalize=True\")"
   ]
  },
  {
   "cell_type": "code",
   "execution_count": 102,
   "id": "548c04dc",
   "metadata": {},
   "outputs": [
    {
     "data": {
      "image/png": "[encoded data removed]",
      "text/plain": [
       "<Figure size 640x480 with 1 Axes>"
      ]
     },
     "metadata": {},
     "output_type": "display_data"
    }
   ],
   "source": [
    "bd.Indicaciones.value_counts().plot(kind=\"bar\")\n",
    "plt.title(\"Ubicación de Indicaciones\")\n",
    "plt.xlabel(\"Ubicación\")\n",
    "plt.xticks(rotation=0)\n",
    "plt.ylabel(\"frecuencia\")\n",
    "plt.show()"
   ]
  },
  {
   "cell_type": "code",
   "execution_count": 123,
   "id": "06644bcd",
   "metadata": {},
   "outputs": [
    {
     "data": {
      "text/plain": [
       "array(['RX', 'OTC', 'RX/OTC', 'NoInf'], dtype=object)"
      ]
     },
     "execution_count": 123,
     "metadata": {},
     "output_type": "execute_result"
    }
   ],
   "source": [
    "tipo=bd[\"Tipo\"].unique()\n",
    "tipo"
   ]
  },
  {
   "cell_type": "code",
   "execution_count": 124,
   "id": "e3df2c4d",
   "metadata": {},
   "outputs": [
    {
     "data": {
      "text/plain": [
       "RX        484\n",
       "OTC       168\n",
       "RX/OTC     28\n",
       "NoInf       5\n",
       "Name: Tipo, dtype: int64"
      ]
     },
     "execution_count": 124,
     "metadata": {},
     "output_type": "execute_result"
    }
   ],
   "source": [
    "bd['Tipo'].value_counts()"
   ]
  },
  {
   "cell_type": "code",
   "execution_count": 125,
   "id": "d600ab5c",
   "metadata": {},
   "outputs": [
    {
     "data": {
      "text/plain": [
       "RX        0.706569\n",
       "OTC       0.245255\n",
       "RX/OTC    0.040876\n",
       "NoInf     0.007299\n",
       "Name: Tipo, dtype: float64"
      ]
     },
     "execution_count": 125,
     "metadata": {},
     "output_type": "execute_result"
    }
   ],
   "source": [
    "bd['Tipo'].value_counts(\"normalize=True\")"
   ]
  },
  {
   "cell_type": "code",
   "execution_count": 126,
   "id": "72caff70",
   "metadata": {},
   "outputs": [
    {
     "data": {
      "image/png": "[encoded data removed]",
      "text/plain": [
       "<Figure size 640x480 with 1 Axes>"
      ]
     },
     "metadata": {},
     "output_type": "display_data"
    }
   ],
   "source": [
    "bd.Tipo.value_counts().plot(kind=\"bar\")\n",
    "plt.title(\"Tipos de venta\")\n",
    "plt.xlabel(\"Tipo de venta\")\n",
    "plt.xticks(rotation=0)\n",
    "plt.ylabel(\"frecuencia\")\n",
    "plt.show()"
   ]
  },
  {
   "cell_type": "markdown",
   "id": "5c2da069",
   "metadata": {},
   "source": [
    "**Analizar la distribución de las variables continuas**"
   ]
  },
  {
   "cell_type": "code",
   "execution_count": 127,
   "id": "775b5401",
   "metadata": {
    "scrolled": false
   },
   "outputs": [
    {
     "data": {
      "text/html": [
       "<div>\n",
       "<style scoped>\n",
       "    .dataframe tbody tr th:only-of-type {\n",
       "        vertical-align: middle;\n",
       "    }\n",
       "\n",
       "    .dataframe tbody tr th {\n",
       "        vertical-align: top;\n",
       "    }\n",
       "\n",
       "    .dataframe thead th {\n",
       "        text-align: right;\n",
       "    }\n",
       "</style>\n",
       "<table border=\"1\" class=\"dataframe\">\n",
       "  <thead>\n",
       "    <tr style=\"text-align: right;\">\n",
       "      <th></th>\n",
       "      <th>Facilidad de uso</th>\n",
       "      <th>Efectividad</th>\n",
       "      <th>Precio</th>\n",
       "      <th>Reseñas</th>\n",
       "      <th>Satisfacción</th>\n",
       "    </tr>\n",
       "  </thead>\n",
       "  <tbody>\n",
       "    <tr>\n",
       "      <th>count</th>\n",
       "      <td>685.000000</td>\n",
       "      <td>685.000000</td>\n",
       "      <td>685.000000</td>\n",
       "      <td>685.000000</td>\n",
       "      <td>685.000000</td>\n",
       "    </tr>\n",
       "    <tr>\n",
       "      <th>mean</th>\n",
       "      <td>3.920038</td>\n",
       "      <td>3.523530</td>\n",
       "      <td>174.211183</td>\n",
       "      <td>82.644410</td>\n",
       "      <td>3.195699</td>\n",
       "    </tr>\n",
       "    <tr>\n",
       "      <th>std</th>\n",
       "      <td>0.894212</td>\n",
       "      <td>0.954126</td>\n",
       "      <td>667.743466</td>\n",
       "      <td>273.281398</td>\n",
       "      <td>1.030442</td>\n",
       "    </tr>\n",
       "    <tr>\n",
       "      <th>min</th>\n",
       "      <td>1.000000</td>\n",
       "      <td>1.000000</td>\n",
       "      <td>4.000000</td>\n",
       "      <td>1.000000</td>\n",
       "      <td>1.000000</td>\n",
       "    </tr>\n",
       "    <tr>\n",
       "      <th>25%</th>\n",
       "      <td>3.556667</td>\n",
       "      <td>3.000000</td>\n",
       "      <td>15.490000</td>\n",
       "      <td>3.000000</td>\n",
       "      <td>2.575000</td>\n",
       "    </tr>\n",
       "    <tr>\n",
       "      <th>50%</th>\n",
       "      <td>4.050000</td>\n",
       "      <td>3.600000</td>\n",
       "      <td>49.990000</td>\n",
       "      <td>10.350877</td>\n",
       "      <td>3.200000</td>\n",
       "    </tr>\n",
       "    <tr>\n",
       "      <th>75%</th>\n",
       "      <td>4.500000</td>\n",
       "      <td>4.110000</td>\n",
       "      <td>145.990000</td>\n",
       "      <td>57.000000</td>\n",
       "      <td>3.901250</td>\n",
       "    </tr>\n",
       "    <tr>\n",
       "      <th>max</th>\n",
       "      <td>5.000000</td>\n",
       "      <td>5.000000</td>\n",
       "      <td>10362.190000</td>\n",
       "      <td>4647.000000</td>\n",
       "      <td>5.000000</td>\n",
       "    </tr>\n",
       "  </tbody>\n",
       "</table>\n",
       "</div>"
      ],
      "text/plain": [
       "       Facilidad de uso  Efectividad        Precio      Reseñas  Satisfacción\n",
       "count        685.000000   685.000000    685.000000   685.000000    685.000000\n",
       "mean           3.920038     3.523530    174.211183    82.644410      3.195699\n",
       "std            0.894212     0.954126    667.743466   273.281398      1.030442\n",
       "min            1.000000     1.000000      4.000000     1.000000      1.000000\n",
       "25%            3.556667     3.000000     15.490000     3.000000      2.575000\n",
       "50%            4.050000     3.600000     49.990000    10.350877      3.200000\n",
       "75%            4.500000     4.110000    145.990000    57.000000      3.901250\n",
       "max            5.000000     5.000000  10362.190000  4647.000000      5.000000"
      ]
     },
     "execution_count": 127,
     "metadata": {},
     "output_type": "execute_result"
    }
   ],
   "source": [
    "bd.describe()"
   ]
  },
  {
   "cell_type": "code",
   "execution_count": 128,
   "id": "264f1592",
   "metadata": {},
   "outputs": [
    {
     "data": {
      "image/png": "[encoded data removed]",
      "text/plain": [
       "<Figure size 1500x1500 with 16 Axes>"
      ]
     },
     "metadata": {},
     "output_type": "display_data"
    }
   ],
   "source": [
    "bd.drop(['Precio','Reseñas'], axis=1).plot(kind='box', subplots=True, layout=(4,4), sharex=False, sharey=False, figsize=(15,15), title='Box Plot para las variables de entrada')\n",
    "#plt.savefig('Condición')\n",
    "plt.show()"
   ]
  },
  {
   "cell_type": "markdown",
   "id": "a1f7013e",
   "metadata": {},
   "source": [
    "**Evaluar la necesidad de usar Label encoding y/o  hot-encoding**"
   ]
  },
  {
   "cell_type": "markdown",
   "id": "9a870554",
   "metadata": {},
   "source": [
    "En este ejercicio no hay necesidad de convertir columnas categóricas en numéricas, ya que no se requiere realizar\n",
    "operaciones con ellas"
   ]
  },
  {
   "cell_type": "code",
   "execution_count": null,
   "id": "2cc179e2",
   "metadata": {},
   "outputs": [],
   "source": []
  }
 ],
 "metadata": {
  "kernelspec": {
   "display_name": "Python 3 (ipykernel)",
   "language": "python",
   "name": "python3"
  },
  "language_info": {
   "codemirror_mode": {
    "name": "ipython",
    "version": 3
   },
   "file_extension": ".py",
   "mimetype": "text/x-python",
   "name": "python",
   "nbconvert_exporter": "python",
   "pygments_lexer": "ipython3",
   "version": "3.9.13"
  }
 },
 "nbformat": 4,
 "nbformat_minor": 5
}
